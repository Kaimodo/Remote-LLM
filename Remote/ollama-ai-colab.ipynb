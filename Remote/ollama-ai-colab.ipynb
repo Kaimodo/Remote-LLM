{
 "cells": [
  {
   "cell_type": "code",
   "execution_count": null,
   "id": "93f59dcb-c588-41b8-a792-55d88ade739c",
   "metadata": {},
   "outputs": [],
   "source": [
    "# Download and install ollama to the system\n",
    "!curl https://ollama.ai/install.sh | sh"
   ]
  },
  {
   "cell_type": "code",
   "execution_count": null,
   "id": "8dfc1243",
   "metadata": {},
   "outputs": [],
   "source": [
    "# Download and Install used Libs\n",
    "!pip install aiohttp pyngrok python-dotenv"
   ]
  },
  {
   "cell_type": "code",
   "execution_count": null,
   "id": "658c147e-c7f8-490e-910e-62b80f577dda",
   "metadata": {},
   "outputs": [],
   "source": [
    "\n",
    "\n",
    "from google.colab import drive\n",
    "from dotenv import load_dotenv\n",
    "import os\n",
    "import asyncio\n",
    "\n",
    "# Load .env file from Google Drive\n",
    "dotenv_path = '/content/drive/My Drive/path/to/your/.env'\n",
    "load_dotenv(dotenv_path)\n",
    "\n",
    "# Set LD_LIBRARY_PATH so the system NVIDIA library \n",
    "os.environ.update({'LD_LIBRARY_PATH': '/usr/lib64-nvidia'})\n",
    "\n",
    "# Set OLLAMA_MODELS environment variable\n",
    "os.environ['OLLAMA_MODELS'] = os.getenv(\"OLLAMA_MODELS\")\n",
    "\n",
    "async def run_process(cmd):\n",
    "  print('>>> starting', *cmd)\n",
    "  p = await asyncio.subprocess.create_subprocess_exec(\n",
    "      *cmd,\n",
    "      stdout=asyncio.subprocess.PIPE,\n",
    "      stderr=asyncio.subprocess.PIPE,\n",
    "  )\n",
    "\n",
    "  async def pipe(lines):\n",
    "    async for line in lines:\n",
    "      print(line.strip().decode('utf-8'))\n",
    "\n",
    "  await asyncio.gather(\n",
    "      pipe(p.stdout),\n",
    "      pipe(p.stderr),\n",
    "  )\n",
    "\n",
    "#register an account at ngrok.com and create an authtoken and place it here\n",
    "await asyncio.gather(\n",
    "    run_process(['ngrok', 'config', 'add-authtoken',os.getenv('NGROK_AUTH_TOKEN')])\n",
    ")\n",
    "\n",
    "await asyncio.gather(\n",
    "    run_process(['ollama', 'serve']),\n",
    "    run_process(['ngrok', 'http', '--log', 'stderr', '11434']),\n",
    ")"
   ]
  },
  {
   "cell_type": "markdown",
   "id": "626cebf7be1f841b",
   "metadata": {
    "collapsed": false
   },
   "source": [
    "Ngrok exposes a url, which you the have to export as OLLAMA_HOST\n",
    "\n",
    "`export OLLAMA_HOST=https://fd90-34-125-15-193.ngrok.io/`\n",
    "\n",
    "after that we can use ollama on our remote instance from our local machine."
   ]
  }
 ],
 "metadata": {
  "kernelspec": {
   "display_name": "Python 3 (ipykernel)",
   "language": "python",
   "name": "python3"
  },
  "language_info": {
   "codemirror_mode": {
    "name": "ipython",
    "version": 3
   },
   "file_extension": ".py",
   "mimetype": "text/x-python",
   "name": "python",
   "nbconvert_exporter": "python",
   "pygments_lexer": "ipython3",
   "version": "3.11.6"
  }
 },
 "nbformat": 4,
 "nbformat_minor": 5
}
